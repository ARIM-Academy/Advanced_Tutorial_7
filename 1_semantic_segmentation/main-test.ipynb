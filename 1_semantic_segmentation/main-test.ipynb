{
 "cells": [
  {
   "cell_type": "code",
   "execution_count": 1,
   "metadata": {},
   "outputs": [],
   "source": [
    "import tensorflow as tf\n",
    "from tensorflow import keras\n",
    "from tensorflow.keras import layers\n",
    "from tensorflow.keras.preprocessing.image import ImageDataGenerator\n",
    "import numpy as np\n",
    "import os"
   ]
  },
  {
   "cell_type": "code",
   "execution_count": 5,
   "metadata": {},
   "outputs": [],
   "source": [
    "# データセットのパス\n",
    "DATA_PATH = './data/microplastics/datasets_full_v2'\n",
    "IMAGE_DIR = os.path.join(DATA_PATH, 'image')\n",
    "LABEL_DIR = os.path.join(DATA_PATH, 'label')\n",
    "\n",
    "IMG_HEIGHT = 512\n",
    "IMG_WIDTH = 512\n",
    "BATCH_SIZE = 32"
   ]
  },
  {
   "cell_type": "code",
   "execution_count": 6,
   "metadata": {},
   "outputs": [],
   "source": [
    "# データ拡張の設定\n",
    "data_gen_args = dict(rotation_range=0.2,\n",
    "                    width_shift_range=0.05,\n",
    "                    height_shift_range=0.05,\n",
    "                    shear_range=0.05,\n",
    "                    zoom_range=0.05,\n",
    "                    horizontal_flip=True,\n",
    "                    fill_mode='nearest',\n",
    "                    validation_split=0.1)\n",
    "\n",
    "# ImageDataGeneratorの作成\n",
    "image_datagen = ImageDataGenerator(**data_gen_args)\n",
    "mask_datagen = ImageDataGenerator(**data_gen_args)"
   ]
  },
  {
   "cell_type": "code",
   "execution_count": 7,
   "metadata": {},
   "outputs": [
    {
     "name": "stdout",
     "output_type": "stream",
     "text": [
      "Found 0 images belonging to 0 classes.\n",
      "Found 0 images belonging to 0 classes.\n",
      "Found 0 images belonging to 0 classes.\n",
      "Found 0 images belonging to 0 classes.\n"
     ]
    }
   ],
   "source": [
    "# データジェネレータの作成\n",
    "seed = 1  # シード値を固定して画像とマスクの対応を維持\n",
    "image_generator = image_datagen.flow_from_directory(\n",
    "    IMAGE_DIR,\n",
    "    target_size=(IMG_HEIGHT, IMG_WIDTH),\n",
    "    batch_size=BATCH_SIZE,\n",
    "    class_mode=None, # クラス分類ではないためNone\n",
    "    seed=seed,\n",
    "    color_mode='grayscale', # グレースケール画像として読み込む\n",
    "    subset='training')\n",
    "\n",
    "mask_generator = mask_datagen.flow_from_directory(\n",
    "    LABEL_DIR,\n",
    "    target_size=(IMG_HEIGHT, IMG_WIDTH),\n",
    "    batch_size=BATCH_SIZE,\n",
    "    class_mode=None,\n",
    "    seed=seed,\n",
    "    color_mode='grayscale',\n",
    "    subset='training')\n",
    "\n",
    "validation_image_generator = image_datagen.flow_from_directory(\n",
    "    IMAGE_DIR,\n",
    "    target_size=(IMG_HEIGHT, IMG_WIDTH),\n",
    "    batch_size=BATCH_SIZE,\n",
    "    class_mode=None,\n",
    "    seed=seed,\n",
    "    color_mode='grayscale',\n",
    "    subset='validation')\n",
    "\n",
    "validation_mask_generator = mask_datagen.flow_from_directory(\n",
    "    LABEL_DIR,\n",
    "    target_size=(IMG_HEIGHT, IMG_WIDTH),\n",
    "    batch_size=BATCH_SIZE,\n",
    "    class_mode=None,\n",
    "    seed=seed,\n",
    "    color_mode='grayscale',\n",
    "    subset='validation')\n",
    "\n",
    "\n",
    "# ジェネレータを結合\n",
    "train_generator = zip(image_generator, mask_generator)\n",
    "val_generator = zip(validation_image_generator, validation_mask_generator)\n"
   ]
  },
  {
   "cell_type": "code",
   "execution_count": 8,
   "metadata": {},
   "outputs": [],
   "source": [
    "# U-Netモデルの定義\n",
    "def unet(input_size=(IMG_HEIGHT, IMG_WIDTH, 1)):\n",
    "    inputs = keras.Input(input_size)\n",
    "\n",
    "    # Encoder\n",
    "    conv1 = layers.Conv2D(64, 3, activation='relu', padding='same')(inputs)\n",
    "    conv1 = layers.Conv2D(64, 3, activation='relu', padding='same')(conv1)\n",
    "    pool1 = layers.MaxPooling2D(pool_size=(2, 2))(conv1)\n",
    "\n",
    "    conv2 = layers.Conv2D(128, 3, activation='relu', padding='same')(pool1)\n",
    "    conv2 = layers.Conv2D(128, 3, activation='relu', padding='same')(conv2)\n",
    "    pool2 = layers.MaxPooling2D(pool_size=(2, 2))(conv2)\n",
    "\n",
    "    # Bottleneck\n",
    "    conv3 = layers.Conv2D(256, 3, activation='relu', padding='same')(pool2)\n",
    "    conv3 = layers.Conv2D(256, 3, activation='relu', padding='same')(conv3)\n",
    "\n",
    "    # Decoder\n",
    "    up1 = layers.UpSampling2D(size=(2, 2))(conv3)\n",
    "    concat1 = layers.concatenate([up1, conv2], axis=-1)\n",
    "    conv4 = layers.Conv2D(128, 3, activation='relu', padding='same')(concat1)\n",
    "    conv4 = layers.Conv2D(128, 3, activation='relu', padding='same')(conv4)\n",
    "\n",
    "    up2 = layers.UpSampling2D(size=(2, 2))(conv4)\n",
    "    concat2 = layers.concatenate([up2, conv1], axis=-1)\n",
    "    conv5 = layers.Conv2D(64, 3, activation='relu', padding='same')(concat2)\n",
    "    conv5 = layers.Conv2D(64, 3, activation='relu', padding='same')(conv5)\n",
    "\n",
    "    outputs = layers.Conv2D(1, 1, activation='sigmoid')(conv5) # 出力は1チャンネル（マスク）\n",
    "    return keras.Model(inputs=inputs, outputs=outputs)"
   ]
  },
  {
   "cell_type": "code",
   "execution_count": 9,
   "metadata": {},
   "outputs": [],
   "source": [
    "# モデルのコンパイル\n",
    "model = unet()\n",
    "model.compile(optimizer='adam', loss='binary_crossentropy', metrics=['accuracy'])"
   ]
  },
  {
   "cell_type": "code",
   "execution_count": null,
   "metadata": {},
   "outputs": [],
   "source": [
    "# Unpack the generators\n",
    "train_images, train_masks = zip(*train_generator)\n",
    "val_images, val_masks = zip(*val_generator)\n",
    "\n",
    "# Use the unpacked data in model.fit\n",
    "model.fit(train_images, train_masks, epochs=10, \n",
    "          validation_data=(val_images, val_masks), \n",
    "          steps_per_epoch=len(image_generator), \n",
    "          validation_steps=len(validation_image_generator))"
   ]
  },
  {
   "cell_type": "code",
   "execution_count": null,
   "metadata": {},
   "outputs": [],
   "source": [
    "# モデルの保存\n",
    "model.save('unet_microplastic.h5')"
   ]
  },
  {
   "cell_type": "code",
   "execution_count": null,
   "metadata": {},
   "outputs": [],
   "source": []
  }
 ],
 "metadata": {
  "kernelspec": {
   "display_name": "ARIM",
   "language": "python",
   "name": "python3"
  },
  "language_info": {
   "codemirror_mode": {
    "name": "ipython",
    "version": 3
   },
   "file_extension": ".py",
   "mimetype": "text/x-python",
   "name": "python",
   "nbconvert_exporter": "python",
   "pygments_lexer": "ipython3",
   "version": "3.10.15"
  }
 },
 "nbformat": 4,
 "nbformat_minor": 2
}
